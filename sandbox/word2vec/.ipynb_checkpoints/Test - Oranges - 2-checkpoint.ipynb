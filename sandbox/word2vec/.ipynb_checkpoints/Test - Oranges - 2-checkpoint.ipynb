{
 "cells": [
  {
   "cell_type": "code",
   "execution_count": 1,
   "metadata": {},
   "outputs": [
    {
     "name": "stderr",
     "output_type": "stream",
     "text": [
      "Using TensorFlow backend.\n"
     ]
    }
   ],
   "source": [
    "from gensim.models.doc2vec import TaggedDocument\n",
    "from gensim.models import Doc2Vec\n",
    "from nltk.tokenize import  word_tokenize\n",
    "\n",
    "class LabeledLineSentence(object):\n",
    "    def __init__(self, texts, idxlist):\n",
    "        self.texts = texts\n",
    "        self.doc_list = idxlist\n",
    "\n",
    "    def __iter__(self):\n",
    "        for idx, text in zip(self.doc_list, self.texts):\n",
    "            wtok = text\n",
    "            tags = [idx]\n",
    "\n",
    "            yield TaggedDocument(words=wtok, tags=tags)\n",
    "            \n",
    "def createModel(tagged_documents_iterator):\n",
    "    model = Doc2Vec(size=5,  min_count=1, sample = 0, iter=200, alpha=0.2)\n",
    "    model.build_vocab(tagged_documents_iterator)\n",
    "    model.train(tagged_documents_iterator, total_examples=model.corpus_count, epochs=model.iter)\n",
    "    return model    "
   ]
  },
  {
   "cell_type": "code",
   "execution_count": 2,
   "metadata": {},
   "outputs": [],
   "source": [
    "documents = [    \n",
    "    'I eat an apple.',     # 0\n",
    "    'I eat an orange.',    # 1\n",
    "    'I eat rice.',      # 2\n",
    "    'I drink juice.',   # 3\n",
    "    'I drink orange juice.',  # 4\n",
    "    'I drink apple juice.',   # 5\n",
    "    'I drink milk.',    # 6\n",
    "    'I drink water.',   # 7\n",
    "    'I drink rice milk.'      # 8\n",
    "]"
   ]
  },
  {
   "cell_type": "code",
   "execution_count": 3,
   "metadata": {},
   "outputs": [],
   "source": [
    "documents_tokenized = [word_tokenize(document.lower()) for document in documents] \n"
   ]
  },
  {
   "cell_type": "code",
   "execution_count": 4,
   "metadata": {},
   "outputs": [
    {
     "data": {
      "text/plain": [
       "[['i', 'eat', 'an', 'apple', '.'],\n",
       " ['i', 'eat', 'an', 'orange', '.'],\n",
       " ['i', 'eat', 'rice', '.'],\n",
       " ['i', 'drink', 'juice', '.'],\n",
       " ['i', 'drink', 'orange', 'juice', '.'],\n",
       " ['i', 'drink', 'apple', 'juice', '.'],\n",
       " ['i', 'drink', 'milk', '.'],\n",
       " ['i', 'drink', 'water', '.'],\n",
       " ['i', 'drink', 'rice', 'milk', '.']]"
      ]
     },
     "execution_count": 4,
     "metadata": {},
     "output_type": "execute_result"
    }
   ],
   "source": [
    "documents_tokenized"
   ]
  },
  {
   "cell_type": "code",
   "execution_count": 5,
   "metadata": {},
   "outputs": [],
   "source": [
    "tagged_documents_iterator = LabeledLineSentence(documents_tokenized, range(len(documents_tokenized)) )"
   ]
  },
  {
   "cell_type": "code",
   "execution_count": 6,
   "metadata": {},
   "outputs": [],
   "source": [
    "model = createModel(tagged_documents_iterator)"
   ]
  },
  {
   "cell_type": "code",
   "execution_count": 7,
   "metadata": {},
   "outputs": [],
   "source": [
    "keyedVector = model.wv"
   ]
  },
  {
   "cell_type": "code",
   "execution_count": 8,
   "metadata": {},
   "outputs": [
    {
     "data": {
      "text/plain": [
       "{'.': <gensim.models.keyedvectors.Vocab at 0x7f3c2d8a3048>,\n",
       " 'an': <gensim.models.keyedvectors.Vocab at 0x7f3c2d897ef0>,\n",
       " 'apple': <gensim.models.keyedvectors.Vocab at 0x7f3c2d897f60>,\n",
       " 'drink': <gensim.models.keyedvectors.Vocab at 0x7f3c2d8a30f0>,\n",
       " 'eat': <gensim.models.keyedvectors.Vocab at 0x7f3c2d897dd8>,\n",
       " 'i': <gensim.models.keyedvectors.Vocab at 0x7f3c2d897e10>,\n",
       " 'juice': <gensim.models.keyedvectors.Vocab at 0x7f3c2d8a3128>,\n",
       " 'milk': <gensim.models.keyedvectors.Vocab at 0x7f3c2d8a3160>,\n",
       " 'orange': <gensim.models.keyedvectors.Vocab at 0x7f3c2d8a3080>,\n",
       " 'rice': <gensim.models.keyedvectors.Vocab at 0x7f3c2d8a30b8>,\n",
       " 'water': <gensim.models.keyedvectors.Vocab at 0x7f3c2d8a3198>}"
      ]
     },
     "execution_count": 8,
     "metadata": {},
     "output_type": "execute_result"
    }
   ],
   "source": [
    "keyedVector.vocab"
   ]
  },
  {
   "cell_type": "code",
   "execution_count": 9,
   "metadata": {},
   "outputs": [
    {
     "name": "stdout",
     "output_type": "stream",
     "text": [
      "========== i ========= \n",
      "[('juice', 0.3201598525047302), ('milk', 0.12499019503593445), ('an', 0.09457343071699142), ('orange', 0.04307600483298302), ('rice', -0.0021706614643335342), ('water', -0.18114060163497925), ('apple', -0.2120579034090042), ('.', -0.3113723397254944), ('eat', -0.5972154140472412), ('drink', -0.8786622285842896)]\n",
      "========== eat ========= \n",
      "[('apple', 0.4504159986972809), ('milk', 0.4376160800457001), ('drink', 0.3160449266433716), ('water', 0.23222467303276062), ('.', 0.0488227978348732), ('orange', 0.038920704275369644), ('juice', -0.2445802241563797), ('i', -0.5972153544425964), ('an', -0.6440686583518982), ('rice', -0.7150197625160217)]\n",
      "========== an ========= \n",
      "[('water', 0.4968716502189636), ('rice', 0.41322988271713257), ('juice', 0.3466440439224243), ('drink', 0.1880747526884079), ('i', 0.09457340091466904), ('.', 0.0297878235578537), ('milk', -0.041588518768548965), ('orange', -0.5435489416122437), ('eat', -0.6440686583518982), ('apple', -0.7428863644599915)]\n",
      "========== apple ========= \n",
      "[('orange', 0.9041184186935425), ('eat', 0.4504159986972809), ('juice', 0.1407201886177063), ('milk', 0.11874496936798096), ('drink', 0.07155274599790573), ('rice', 0.03611469268798828), ('i', -0.2120579034090042), ('water', -0.4811779856681824), ('.', -0.5057001709938049), ('an', -0.7428863644599915)]\n",
      "========== . ========= \n",
      "[('drink', 0.13083817064762115), ('eat', 0.04882277548313141), ('an', 0.029787804931402206), ('rice', -0.06399604678153992), ('water', -0.1328209638595581), ('i', -0.3113723397254944), ('apple', -0.5057001113891602), ('orange', -0.5890453457832336), ('milk', -0.5992678999900818), ('juice', -0.9095259308815002)]\n",
      "========== orange ========= \n",
      "[('apple', 0.9041184186935425), ('rice', 0.3734390139579773), ('juice', 0.28465092182159424), ('i', 0.04307602345943451), ('eat', 0.038920704275369644), ('drink', -0.03478941321372986), ('milk', -0.0946119874715805), ('an', -0.5435489416122437), ('.', -0.5890454053878784), ('water', -0.6317694187164307)]\n",
      "========== rice ========= \n",
      "[('an', 0.41322988271713257), ('orange', 0.3734390139579773), ('drink', 0.23179207742214203), ('juice', 0.13984599709510803), ('apple', 0.03611469268798828), ('i', -0.0021706540137529373), ('.', -0.06399605423212051), ('water', -0.45815083384513855), ('milk', -0.671255886554718), ('eat', -0.7150197625160217)]\n",
      "========== drink ========= \n",
      "[('water', 0.3333720564842224), ('eat', 0.3160449266433716), ('rice', 0.23179207742214203), ('an', 0.1880747526884079), ('.', 0.13083818554878235), ('apple', 0.07155274599790573), ('juice', -0.0028220778331160545), ('orange', -0.03478941321372986), ('milk', -0.1719234734773636), ('i', -0.8786621689796448)]\n",
      "========== juice ========= \n",
      "[('milk', 0.5712622404098511), ('water', 0.4101089537143707), ('an', 0.3466440439224243), ('i', 0.3201598525047302), ('orange', 0.28465092182159424), ('apple', 0.1407201886177063), ('rice', 0.13984599709510803), ('drink', -0.0028220778331160545), ('eat', -0.2445802241563797), ('.', -0.909525990486145)]\n",
      "========== milk ========= \n",
      "[('water', 0.641495406627655), ('juice', 0.5712622404098511), ('eat', 0.4376160800457001), ('i', 0.12499018758535385), ('apple', 0.11874496936798096), ('an', -0.041588518768548965), ('orange', -0.0946119874715805), ('drink', -0.1719234734773636), ('.', -0.5992679595947266), ('rice', -0.671255886554718)]\n",
      "========== water ========= \n",
      "[('milk', 0.641495406627655), ('an', 0.4968716502189636), ('juice', 0.4101089537143707), ('drink', 0.3333720564842224), ('eat', 0.23222467303276062), ('.', -0.1328209787607193), ('i', -0.18114058673381805), ('rice', -0.45815083384513855), ('apple', -0.4811779856681824), ('orange', -0.6317694187164307)]\n"
     ]
    }
   ],
   "source": [
    "for word in keyedVector.vocab:\n",
    "    print('========== {} ========= '.format(word))\n",
    "    print(keyedVector.most_similar(positive=[word]), sep='\\n')"
   ]
  },
  {
   "cell_type": "code",
   "execution_count": 13,
   "metadata": {},
   "outputs": [],
   "source": [
    "from nltk.corpus import stopwords\n",
    "import string\n",
    "\n",
    "documents_tokenized = [[x for x in word_tokenize(document.lower()) if x not in stopwords.words('english') + list(string.punctuation)]\n",
    "                       for document in documents  ] \n"
   ]
  },
  {
   "cell_type": "code",
   "execution_count": 14,
   "metadata": {},
   "outputs": [
    {
     "data": {
      "text/plain": [
       "[['eat', 'apple'],\n",
       " ['eat', 'orange'],\n",
       " ['eat', 'rice'],\n",
       " ['drink', 'juice'],\n",
       " ['drink', 'orange', 'juice'],\n",
       " ['drink', 'apple', 'juice'],\n",
       " ['drink', 'milk'],\n",
       " ['drink', 'water'],\n",
       " ['drink', 'rice', 'milk']]"
      ]
     },
     "execution_count": 14,
     "metadata": {},
     "output_type": "execute_result"
    }
   ],
   "source": [
    "documents_tokenized"
   ]
  },
  {
   "cell_type": "code",
   "execution_count": 27,
   "metadata": {},
   "outputs": [],
   "source": [
    "tagged_documents_iterator = LabeledLineSentence(documents_tokenized, range(len(documents_tokenized)) )"
   ]
  },
  {
   "cell_type": "code",
   "execution_count": 34,
   "metadata": {},
   "outputs": [],
   "source": [
    "model = createModel(tagged_documents_iterator)\n",
    "keyedVector = model.wv"
   ]
  },
  {
   "cell_type": "code",
   "execution_count": 35,
   "metadata": {},
   "outputs": [
    {
     "name": "stdout",
     "output_type": "stream",
     "text": [
      "========== eat ========= \n",
      "[('juice', 0.5720855593681335), ('milk', 0.2762449383735657), ('drink', -0.013058863580226898), ('water', -0.03299867361783981), ('rice', -0.204393208026886), ('orange', -0.41102057695388794), ('apple', -0.5341901779174805)]\n",
      "========== apple ========= \n",
      "[('rice', 0.7592123746871948), ('orange', 0.4552444815635681), ('water', 0.4116889536380768), ('drink', 0.11775501072406769), ('milk', 0.015080234035849571), ('juice', -0.06365883350372314), ('eat', -0.5341902375221252)]\n",
      "========== orange ========= \n",
      "[('water', 0.5209260582923889), ('apple', 0.4552444815635681), ('milk', 0.2392314225435257), ('rice', 0.21330499649047852), ('drink', -0.006312195211648941), ('juice', -0.2098483145236969), ('eat', -0.41102057695388794)]\n",
      "========== rice ========= \n",
      "[('apple', 0.7592123746871948), ('water', 0.44820624589920044), ('orange', 0.21330496668815613), ('juice', 0.0617765337228775), ('drink', 0.04753674566745758), ('milk', -0.1992708295583725), ('eat', -0.2043931782245636)]\n",
      "========== drink ========= \n",
      "[('apple', 0.11775501072406769), ('rice', 0.04753677546977997), ('orange', -0.006312195211648941), ('eat', -0.013058893382549286), ('milk', -0.7051361203193665), ('juice', -0.7083715200424194), ('water', -0.7131730914115906)]\n",
      "========== juice ========= \n",
      "[('milk', 0.8074555993080139), ('water', 0.634750485420227), ('eat', 0.5720855593681335), ('rice', 0.061776503920555115), ('apple', -0.06365883350372314), ('orange', -0.2098483145236969), ('drink', -0.7083715200424194)]\n",
      "========== milk ========= \n",
      "[('juice', 0.8074557185173035), ('water', 0.7055516839027405), ('eat', 0.27624499797821045), ('orange', 0.23923145234584808), ('apple', 0.015080230310559273), ('rice', -0.19927085936069489), ('drink', -0.7051361203193665)]\n",
      "========== water ========= \n",
      "[('milk', 0.7055515050888062), ('juice', 0.6347504258155823), ('orange', 0.5209259986877441), ('rice', 0.44820618629455566), ('apple', 0.411688894033432), ('eat', -0.032998666167259216), ('drink', -0.7131730318069458)]\n"
     ]
    }
   ],
   "source": [
    "for word in keyedVector.vocab:\n",
    "    print('========== {} ========= '.format(word))\n",
    "    print(keyedVector.most_similar(positive=[word]), sep='\\n')"
   ]
  },
  {
   "cell_type": "code",
   "execution_count": null,
   "metadata": {},
   "outputs": [],
   "source": []
  }
 ],
 "metadata": {
  "kernelspec": {
   "display_name": "Python 3",
   "language": "python",
   "name": "python3"
  },
  "language_info": {
   "codemirror_mode": {
    "name": "ipython",
    "version": 3
   },
   "file_extension": ".py",
   "mimetype": "text/x-python",
   "name": "python",
   "nbconvert_exporter": "python",
   "pygments_lexer": "ipython3",
   "version": "3.6.2"
  }
 },
 "nbformat": 4,
 "nbformat_minor": 2
}
