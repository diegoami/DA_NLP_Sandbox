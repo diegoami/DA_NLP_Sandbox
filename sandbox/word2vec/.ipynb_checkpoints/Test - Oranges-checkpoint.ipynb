{
 "cells": [
  {
   "cell_type": "code",
   "execution_count": 2,
   "metadata": {},
   "outputs": [],
   "source": [
    "from gensim.models.doc2vec import TaggedDocument\n",
    "from gensim.models import Doc2Vec"
   ]
  },
  {
   "cell_type": "code",
   "execution_count": 14,
   "metadata": {},
   "outputs": [],
   "source": [
    "documents = [    \n",
    "    'eat apple',     # 0\n",
    "    'eat orange',    # 1\n",
    "    'eat rice',      # 2\n",
    "    'drink juice',   # 3\n",
    "    'orange juice',  # 4\n",
    "    'apple juice',   # 5\n",
    "    'drink milk',    # 6\n",
    "    'drink water',   # 7\n",
    "    'rice milk'      # 8\n",
    "]"
   ]
  },
  {
   "cell_type": "markdown",
   "metadata": {},
   "source": [
    "Word2vec detects that words are related, similar or interchangeable looking at the words that are closer to them.\n",
    "Here we expect to find out similarities between:\n",
    "\n",
    "* **orange, apple** because you can make **juice** out of them ( #4, #5 )\n",
    "* **apple, orange, rice** because you can **eat** them ( #0, #1, #2)\n",
    "* **juice, milk, water** because you can **drink** them ( #3, #6, #7 )\n",
    " \n",
    "Side effect:\n",
    "* **orange, apple** may be similar to **drink** because of (#3 vs #4, #5 ) \n",
    "* **juice** may be similar to **eat** because of (#4, #5 vs #0, #1 ) \n",
    "* **milk** may be similar to **eat** because of (#2 vs #8 )\n",
    "* **rice** may be similar to **drink** because of (#6 vs #8 )\n"
   ]
  },
  {
   "cell_type": "code",
   "execution_count": 15,
   "metadata": {},
   "outputs": [],
   "source": [
    "from nltk.tokenize import sent_tokenize, word_tokenize\n",
    "documents_tokenized = [word_tokenize(document) for document in documents] \n"
   ]
  },
  {
   "cell_type": "code",
   "execution_count": 16,
   "metadata": {},
   "outputs": [
    {
     "data": {
      "text/plain": [
       "[['eat', 'apple'],\n",
       " ['eat', 'orange'],\n",
       " ['eat', 'rice'],\n",
       " ['drink', 'juice'],\n",
       " ['orange', 'juice'],\n",
       " ['apple', 'juice'],\n",
       " ['drink', 'milk'],\n",
       " ['drink', 'water']]"
      ]
     },
     "execution_count": 16,
     "metadata": {},
     "output_type": "execute_result"
    }
   ],
   "source": [
    "documents_tokenized"
   ]
  },
  {
   "cell_type": "code",
   "execution_count": 17,
   "metadata": {},
   "outputs": [],
   "source": [
    "class LabeledLineSentence(object):\n",
    "    def __init__(self, texts, idxlist):\n",
    "        self.texts = texts\n",
    "        self.doc_list = idxlist\n",
    "\n",
    "    def __iter__(self):\n",
    "        for idx, text in zip(self.doc_list, self.texts):\n",
    "            wtok = text\n",
    "            tags = [idx]\n",
    "\n",
    "            yield TaggedDocument(words=wtok, tags=tags)"
   ]
  },
  {
   "cell_type": "code",
   "execution_count": 18,
   "metadata": {},
   "outputs": [],
   "source": [
    "tagged_documents_iterator = LabeledLineSentence(documents_tokenized, range(len(documents_tokenized)) )"
   ]
  },
  {
   "cell_type": "code",
   "execution_count": 19,
   "metadata": {},
   "outputs": [
    {
     "data": {
      "text/plain": [
       "[TaggedDocument(words=['eat', 'apple'], tags=[0]),\n",
       " TaggedDocument(words=['eat', 'orange'], tags=[1]),\n",
       " TaggedDocument(words=['eat', 'rice'], tags=[2]),\n",
       " TaggedDocument(words=['drink', 'juice'], tags=[3]),\n",
       " TaggedDocument(words=['orange', 'juice'], tags=[4]),\n",
       " TaggedDocument(words=['apple', 'juice'], tags=[5]),\n",
       " TaggedDocument(words=['drink', 'milk'], tags=[6]),\n",
       " TaggedDocument(words=['drink', 'water'], tags=[7])]"
      ]
     },
     "execution_count": 19,
     "metadata": {},
     "output_type": "execute_result"
    }
   ],
   "source": [
    "list(tagged_documents_iterator)\n"
   ]
  },
  {
   "cell_type": "code",
   "execution_count": 68,
   "metadata": {},
   "outputs": [],
   "source": [
    "model = Doc2Vec(size=10,  min_count=1, sample = 0, iter=200, alpha=0.2)"
   ]
  },
  {
   "cell_type": "code",
   "execution_count": 69,
   "metadata": {},
   "outputs": [],
   "source": [
    "model.build_vocab(tagged_documents_iterator)"
   ]
  },
  {
   "cell_type": "code",
   "execution_count": 70,
   "metadata": {},
   "outputs": [
    {
     "data": {
      "text/plain": [
       "<gensim.models.keyedvectors.KeyedVectors at 0x7f6f908905c0>"
      ]
     },
     "execution_count": 70,
     "metadata": {},
     "output_type": "execute_result"
    }
   ],
   "source": [
    "model.wv"
   ]
  },
  {
   "cell_type": "code",
   "execution_count": 71,
   "metadata": {},
   "outputs": [
    {
     "data": {
      "text/plain": [
       "4800"
      ]
     },
     "execution_count": 71,
     "metadata": {},
     "output_type": "execute_result"
    }
   ],
   "source": [
    "model.train(tagged_documents_iterator, total_examples=model.corpus_count, epochs=model.iter)"
   ]
  },
  {
   "cell_type": "code",
   "execution_count": 72,
   "metadata": {},
   "outputs": [],
   "source": [
    "keyedVector = model.wv"
   ]
  },
  {
   "cell_type": "code",
   "execution_count": 73,
   "metadata": {},
   "outputs": [
    {
     "data": {
      "text/plain": [
       "[('orange', 0.8001600503921509),\n",
       " ('rice', 0.625898540019989),\n",
       " ('drink', 0.5313394069671631),\n",
       " ('milk', 0.31874215602874756),\n",
       " ('water', 0.13868723809719086),\n",
       " ('eat', -0.16934148967266083),\n",
       " ('juice', -0.3660101592540741)]"
      ]
     },
     "execution_count": 73,
     "metadata": {},
     "output_type": "execute_result"
    }
   ],
   "source": [
    "keyedVector.most_similar(positive=['apple'])"
   ]
  },
  {
   "cell_type": "code",
   "execution_count": 74,
   "metadata": {},
   "outputs": [
    {
     "data": {
      "text/plain": [
       "[('water', 0.751163125038147),\n",
       " ('milk', 0.5993781685829163),\n",
       " ('eat', 0.4183531701564789),\n",
       " ('rice', 0.358722448348999),\n",
       " ('orange', -0.13135085999965668),\n",
       " ('apple', -0.3660100996494293),\n",
       " ('drink', -0.4774039089679718)]"
      ]
     },
     "execution_count": 74,
     "metadata": {},
     "output_type": "execute_result"
    }
   ],
   "source": [
    "keyedVector.most_similar(positive=['juice'])"
   ]
  },
  {
   "cell_type": "code",
   "execution_count": 58,
   "metadata": {},
   "outputs": [
    {
     "data": {
      "text/plain": [
       "[('apple', 0.7836894989013672),\n",
       " ('orange', 0.7691080570220947),\n",
       " ('juice', 0.744430661201477),\n",
       " ('eat', 0.7242857217788696),\n",
       " ('milk', 0.5349156260490417),\n",
       " ('water', 0.5061863660812378),\n",
       " ('rice', 0.4724278450012207)]"
      ]
     },
     "execution_count": 58,
     "metadata": {},
     "output_type": "execute_result"
    }
   ],
   "source": [
    "keyedVector.most_similar(positive=['drink'])"
   ]
  },
  {
   "cell_type": "code",
   "execution_count": 66,
   "metadata": {},
   "outputs": [
    {
     "data": {
      "text/plain": [
       "[('rice', 0.874415397644043),\n",
       " ('apple', 0.6485577821731567),\n",
       " ('drink', 0.3787643313407898),\n",
       " ('milk', 0.35988014936447144),\n",
       " ('water', -0.017235398292541504),\n",
       " ('juice', -0.11514444649219513),\n",
       " ('eat', -0.3552086651325226)]"
      ]
     },
     "execution_count": 66,
     "metadata": {},
     "output_type": "execute_result"
    }
   ],
   "source": [
    "keyedVector.most_similar(positive=['orange'])"
   ]
  },
  {
   "cell_type": "code",
   "execution_count": 67,
   "metadata": {},
   "outputs": [
    {
     "data": {
      "text/plain": [
       "[('water', 0.6505352258682251),\n",
       " ('juice', 0.3340483605861664),\n",
       " ('milk', 0.1099378913640976),\n",
       " ('drink', 0.04004232585430145),\n",
       " ('apple', 0.0076531171798706055),\n",
       " ('rice', -0.03144672140479088),\n",
       " ('orange', -0.35520869493484497)]"
      ]
     },
     "execution_count": 67,
     "metadata": {},
     "output_type": "execute_result"
    }
   ],
   "source": [
    "keyedVector.most_similar(positive=['eat'])"
   ]
  },
  {
   "cell_type": "code",
   "execution_count": null,
   "metadata": {},
   "outputs": [],
   "source": []
  }
 ],
 "metadata": {
  "kernelspec": {
   "display_name": "Python 3",
   "language": "python",
   "name": "python3"
  },
  "language_info": {
   "codemirror_mode": {
    "name": "ipython",
    "version": 3
   },
   "file_extension": ".py",
   "mimetype": "text/x-python",
   "name": "python",
   "nbconvert_exporter": "python",
   "pygments_lexer": "ipython3",
   "version": "3.6.2"
  }
 },
 "nbformat": 4,
 "nbformat_minor": 2
}
