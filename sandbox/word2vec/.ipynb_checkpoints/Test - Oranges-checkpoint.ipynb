{
 "cells": [
  {
   "cell_type": "markdown",
   "metadata": {},
   "source": [
    "## Purpose\n",
    "\n",
    "Both Bag of Words and Word2Vec are data structures that reprepesent documents in a numerical format and that can be used to find out the degree of similarities between two documents,  among other things . \n",
    "\n",
    "## Internal structure\n",
    "\n",
    "* Bag of words is a frequency matrix giving the information how many times a specific word appear in a document\n",
    "* In Word2Vec each word is a vector over a n-dimensional space. You average the vector of words of a document to get a vector representation of a document. To compute the difference you get the distance between those two vectors.\n",
    "\n",
    "\n",
    "## Determinism\n",
    "\n",
    "* Bag of Words  is a deterministic algorithm\n",
    "* Word2Vec uses instead neural network and the results depend on hyperparameters\n",
    "\n",
    "## Algorithm\n",
    "\n",
    "* BoW is used by the TfIDF algorithm (also deterministic)\n",
    "* Distances between Word2Vec vectors is calculated a formula (Cosine Distance, or Vector Multiplication)\n"
   ]
  },
  {
   "cell_type": "code",
   "execution_count": null,
   "metadata": {},
   "outputs": [],
   "source": [
    "The idea of Word2Vec would be to recognize that there is a relation between **fox** and **wolf** from these sentences\n",
    "\n",
    "*The quick brown fox runs in the forest*\n",
    "*The quick brown wolf runs in the forest*"
   ]
  },
  {
   "cell_type": "code",
   "execution_count": 75,
   "metadata": {},
   "outputs": [],
   "source": [
    "from gensim.models.doc2vec import TaggedDocument\n",
    "from gensim.models import Doc2Vec"
   ]
  },
  {
   "cell_type": "code",
   "execution_count": 76,
   "metadata": {},
   "outputs": [],
   "source": [
    "documents = [    \n",
    "    'eat apple',     # 0\n",
    "    'eat orange',    # 1\n",
    "    'eat rice',      # 2\n",
    "    'drink juice',   # 3\n",
    "    'orange juice',  # 4\n",
    "    'apple juice',   # 5\n",
    "    'drink milk',    # 6\n",
    "    'drink water',   # 7\n",
    "    'rice milk'      # 8\n",
    "]"
   ]
  },
  {
   "cell_type": "markdown",
   "metadata": {},
   "source": [
    "Word2vec detects that words are related, similar or interchangeable looking at the words that are closer to them.\n",
    "Here we expect to find out similarities between:\n",
    "\n",
    "* **orange, apple** because you can make **juice** out of them ( #4, #5 )\n",
    "* **apple, orange, rice** because you can **eat** them ( #0, #1, #2)\n",
    "* **juice, milk, water** because you can **drink** them ( #3, #6, #7 )\n",
    " \n",
    "Side effect:\n",
    "* **orange, apple** may be similar to **drink** because of (#3 vs #4, #5 ) \n",
    "* **juice** may be similar to **eat** because of (#4, #5 vs #0, #1 ) \n",
    "* **milk** may be similar to **eat** because of (#2 vs #8 )\n",
    "* **rice** may be similar to **drink** because of (#6 vs #8 )\n"
   ]
  },
  {
   "cell_type": "code",
   "execution_count": 77,
   "metadata": {},
   "outputs": [],
   "source": [
    "from nltk.tokenize import sent_tokenize, word_tokenize\n",
    "documents_tokenized = [word_tokenize(document) for document in documents] \n"
   ]
  },
  {
   "cell_type": "code",
   "execution_count": 78,
   "metadata": {},
   "outputs": [
    {
     "data": {
      "text/plain": [
       "[['eat', 'apple'],\n",
       " ['eat', 'orange'],\n",
       " ['eat', 'rice'],\n",
       " ['drink', 'juice'],\n",
       " ['orange', 'juice'],\n",
       " ['apple', 'juice'],\n",
       " ['drink', 'milk'],\n",
       " ['drink', 'water'],\n",
       " ['rice', 'milk']]"
      ]
     },
     "execution_count": 78,
     "metadata": {},
     "output_type": "execute_result"
    }
   ],
   "source": [
    "documents_tokenized"
   ]
  },
  {
   "cell_type": "code",
   "execution_count": 79,
   "metadata": {},
   "outputs": [],
   "source": [
    "class LabeledLineSentence(object):\n",
    "    def __init__(self, texts, idxlist):\n",
    "        self.texts = texts\n",
    "        self.doc_list = idxlist\n",
    "\n",
    "    def __iter__(self):\n",
    "        for idx, text in zip(self.doc_list, self.texts):\n",
    "            wtok = text\n",
    "            tags = [idx]\n",
    "\n",
    "            yield TaggedDocument(words=wtok, tags=tags)"
   ]
  },
  {
   "cell_type": "code",
   "execution_count": 80,
   "metadata": {},
   "outputs": [],
   "source": [
    "tagged_documents_iterator = LabeledLineSentence(documents_tokenized, range(len(documents_tokenized)) )"
   ]
  },
  {
   "cell_type": "code",
   "execution_count": 81,
   "metadata": {},
   "outputs": [
    {
     "data": {
      "text/plain": [
       "[TaggedDocument(words=['eat', 'apple'], tags=[0]),\n",
       " TaggedDocument(words=['eat', 'orange'], tags=[1]),\n",
       " TaggedDocument(words=['eat', 'rice'], tags=[2]),\n",
       " TaggedDocument(words=['drink', 'juice'], tags=[3]),\n",
       " TaggedDocument(words=['orange', 'juice'], tags=[4]),\n",
       " TaggedDocument(words=['apple', 'juice'], tags=[5]),\n",
       " TaggedDocument(words=['drink', 'milk'], tags=[6]),\n",
       " TaggedDocument(words=['drink', 'water'], tags=[7]),\n",
       " TaggedDocument(words=['rice', 'milk'], tags=[8])]"
      ]
     },
     "execution_count": 81,
     "metadata": {},
     "output_type": "execute_result"
    }
   ],
   "source": [
    "list(tagged_documents_iterator)\n"
   ]
  },
  {
   "cell_type": "code",
   "execution_count": 82,
   "metadata": {},
   "outputs": [],
   "source": [
    "model = Doc2Vec(size=5,  min_count=1, sample = 0, iter=200, alpha=0.2)"
   ]
  },
  {
   "cell_type": "code",
   "execution_count": 83,
   "metadata": {},
   "outputs": [],
   "source": [
    "model.build_vocab(tagged_documents_iterator)"
   ]
  },
  {
   "cell_type": "code",
   "execution_count": 84,
   "metadata": {},
   "outputs": [
    {
     "data": {
      "text/plain": [
       "<gensim.models.keyedvectors.KeyedVectors at 0x7f6fa93be828>"
      ]
     },
     "execution_count": 84,
     "metadata": {},
     "output_type": "execute_result"
    }
   ],
   "source": [
    "model.wv"
   ]
  },
  {
   "cell_type": "code",
   "execution_count": 85,
   "metadata": {},
   "outputs": [
    {
     "data": {
      "text/plain": [
       "5400"
      ]
     },
     "execution_count": 85,
     "metadata": {},
     "output_type": "execute_result"
    }
   ],
   "source": [
    "model.train(tagged_documents_iterator, total_examples=model.corpus_count, epochs=model.iter)"
   ]
  },
  {
   "cell_type": "code",
   "execution_count": 86,
   "metadata": {},
   "outputs": [],
   "source": [
    "keyedVector = model.wv"
   ]
  },
  {
   "cell_type": "code",
   "execution_count": 111,
   "metadata": {},
   "outputs": [
    {
     "name": "stdout",
     "output_type": "stream",
     "text": [
      "========== eat ========= \n",
      "[('water', 0.8403401374816895), ('milk', 0.666740357875824), ('juice', 0.5291733741760254), ('apple', -0.07000157237052917), ('drink', -0.16449116170406342), ('orange', -0.18614456057548523), ('rice', -0.3158060312271118)]\n",
      "========== apple ========= \n",
      "[('rice', 0.8115032911300659), ('drink', 0.6313644647598267), ('orange', 0.6110762357711792), ('water', 0.20079126954078674), ('eat', -0.07000157237052917), ('milk', -0.2079600691795349), ('juice', -0.465804785490036)]\n",
      "========== orange ========= \n",
      "[('rice', 0.9061521887779236), ('drink', 0.7691922187805176), ('apple', 0.6110761165618896), ('water', 0.2924272418022156), ('milk', 0.145674467086792), ('juice', 0.007711499929428101), ('eat', -0.18614456057548523)]\n",
      "========== rice ========= \n",
      "[('orange', 0.9061521887779236), ('apple', 0.8115031719207764), ('drink', 0.7943306565284729), ('water', 0.11420619487762451), ('milk', -0.11059340834617615), ('juice', -0.1936865746974945), ('eat', -0.3158060312271118)]\n",
      "========== drink ========= \n",
      "[('rice', 0.7943306565284729), ('orange', 0.7691922187805176), ('apple', 0.6313644647598267), ('water', 0.02526184916496277), ('eat', -0.16449116170406342), ('juice', -0.30208921432495117), ('milk', -0.3158668875694275)]\n",
      "========== juice ========= \n",
      "[('milk', 0.8516817688941956), ('water', 0.60219407081604), ('eat', 0.5291734337806702), ('orange', 0.007711499929428101), ('rice', -0.19368654489517212), ('drink', -0.30208927392959595), ('apple', -0.46580472588539124)]\n",
      "========== milk ========= \n",
      "[('water', 0.8553851842880249), ('juice', 0.851681649684906), ('eat', 0.6667402982711792), ('orange', 0.145674467086792), ('rice', -0.11059337854385376), ('apple', -0.2079600691795349), ('drink', -0.3158668279647827)]\n",
      "========== water ========= \n",
      "[('milk', 0.8553852438926697), ('eat', 0.8403401374816895), ('juice', 0.6021940112113953), ('orange', 0.2924272418022156), ('apple', 0.20079129934310913), ('rice', 0.11420619487762451), ('drink', 0.02526184916496277)]\n"
     ]
    }
   ],
   "source": [
    "for word in keyedVector.vocab:\n",
    "    print('========== {} ========= '.format(word))\n",
    "    print(keyedVector.most_similar(positive=[word]), sep='\\n')"
   ]
  },
  {
   "cell_type": "code",
   "execution_count": 87,
   "metadata": {},
   "outputs": [
    {
     "data": {
      "text/plain": [
       "[('rice', 0.8115032911300659),\n",
       " ('drink', 0.6313644647598267),\n",
       " ('orange', 0.6110762357711792),\n",
       " ('water', 0.20079126954078674),\n",
       " ('eat', -0.07000157237052917),\n",
       " ('milk', -0.2079600691795349),\n",
       " ('juice', -0.465804785490036)]"
      ]
     },
     "execution_count": 87,
     "metadata": {},
     "output_type": "execute_result"
    }
   ],
   "source": [
    "keyedVector.most_similar(positive=['apple'])"
   ]
  },
  {
   "cell_type": "code",
   "execution_count": 74,
   "metadata": {},
   "outputs": [
    {
     "data": {
      "text/plain": [
       "[('water', 0.751163125038147),\n",
       " ('milk', 0.5993781685829163),\n",
       " ('eat', 0.4183531701564789),\n",
       " ('rice', 0.358722448348999),\n",
       " ('orange', -0.13135085999965668),\n",
       " ('apple', -0.3660100996494293),\n",
       " ('drink', -0.4774039089679718)]"
      ]
     },
     "execution_count": 74,
     "metadata": {},
     "output_type": "execute_result"
    }
   ],
   "source": [
    "keyedVector.most_similar(positive=['juice'])"
   ]
  },
  {
   "cell_type": "code",
   "execution_count": 58,
   "metadata": {},
   "outputs": [
    {
     "data": {
      "text/plain": [
       "[('apple', 0.7836894989013672),\n",
       " ('orange', 0.7691080570220947),\n",
       " ('juice', 0.744430661201477),\n",
       " ('eat', 0.7242857217788696),\n",
       " ('milk', 0.5349156260490417),\n",
       " ('water', 0.5061863660812378),\n",
       " ('rice', 0.4724278450012207)]"
      ]
     },
     "execution_count": 58,
     "metadata": {},
     "output_type": "execute_result"
    }
   ],
   "source": [
    "keyedVector.most_similar(positive=['drink'])"
   ]
  },
  {
   "cell_type": "code",
   "execution_count": 66,
   "metadata": {},
   "outputs": [
    {
     "data": {
      "text/plain": [
       "[('rice', 0.874415397644043),\n",
       " ('apple', 0.6485577821731567),\n",
       " ('drink', 0.3787643313407898),\n",
       " ('milk', 0.35988014936447144),\n",
       " ('water', -0.017235398292541504),\n",
       " ('juice', -0.11514444649219513),\n",
       " ('eat', -0.3552086651325226)]"
      ]
     },
     "execution_count": 66,
     "metadata": {},
     "output_type": "execute_result"
    }
   ],
   "source": [
    "keyedVector.most_similar(positive=['orange'])"
   ]
  },
  {
   "cell_type": "code",
   "execution_count": 67,
   "metadata": {},
   "outputs": [
    {
     "data": {
      "text/plain": [
       "[('water', 0.6505352258682251),\n",
       " ('juice', 0.3340483605861664),\n",
       " ('milk', 0.1099378913640976),\n",
       " ('drink', 0.04004232585430145),\n",
       " ('apple', 0.0076531171798706055),\n",
       " ('rice', -0.03144672140479088),\n",
       " ('orange', -0.35520869493484497)]"
      ]
     },
     "execution_count": 67,
     "metadata": {},
     "output_type": "execute_result"
    }
   ],
   "source": [
    "keyedVector.most_similar(positive=['eat'])"
   ]
  },
  {
   "cell_type": "code",
   "execution_count": null,
   "metadata": {},
   "outputs": [],
   "source": []
  }
 ],
 "metadata": {
  "kernelspec": {
   "display_name": "Python 3",
   "language": "python",
   "name": "python3"
  },
  "language_info": {
   "codemirror_mode": {
    "name": "ipython",
    "version": 3
   },
   "file_extension": ".py",
   "mimetype": "text/x-python",
   "name": "python",
   "nbconvert_exporter": "python",
   "pygments_lexer": "ipython3",
   "version": "3.6.2"
  }
 },
 "nbformat": 4,
 "nbformat_minor": 2
}
