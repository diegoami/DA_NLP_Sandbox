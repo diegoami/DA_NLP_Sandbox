{
 "cells": [
  {
   "cell_type": "code",
   "execution_count": 10,
   "metadata": {},
   "outputs": [],
   "source": [
    "from gensim.models.doc2vec import TaggedDocument\n",
    "from gensim.models import Doc2Vec\n",
    "from nltk.tokenize import  word_tokenize\n",
    "\n",
    "class LabeledLineSentence(object):\n",
    "    def __init__(self, texts, idxlist):\n",
    "        self.texts = texts\n",
    "        self.doc_list = idxlist\n",
    "\n",
    "    def __iter__(self):\n",
    "        for idx, text in zip(self.doc_list, self.texts):\n",
    "            wtok = text\n",
    "            tags = [idx]\n",
    "\n",
    "            yield TaggedDocument(words=wtok, tags=tags)\n",
    "            \n",
    "def createModel(tagged_documents_iterator):\n",
    "    model = Doc2Vec(size=5,  min_count=1, sample = 0, iter=200, alpha=0.2)\n",
    "    model.build_vocab(tagged_documents_iterator)\n",
    "    model.train(tagged_documents_iterator, total_examples=model.corpus_count, epochs=model.iter)\n",
    "    return model    "
   ]
  },
  {
   "cell_type": "code",
   "execution_count": 2,
   "metadata": {},
   "outputs": [],
   "source": [
    "documents = [    \n",
    "    'I eat an apple',     # 0\n",
    "    'I eat an orange',    # 1\n",
    "    'I eat rice',      # 2\n",
    "    'I drink juice',   # 3\n",
    "    'I drink orange juice',  # 4\n",
    "    'I drink apple juice',   # 5\n",
    "    'I drink milk',    # 6\n",
    "    'I drink water',   # 7\n",
    "    'I drink rice milk'      # 8\n",
    "]"
   ]
  },
  {
   "cell_type": "code",
   "execution_count": 5,
   "metadata": {},
   "outputs": [],
   "source": [
    "documents_tokenized = [word_tokenize(document.lower()) for document in documents] \n"
   ]
  },
  {
   "cell_type": "code",
   "execution_count": 6,
   "metadata": {},
   "outputs": [
    {
     "data": {
      "text/plain": [
       "[['i', 'eat', 'an', 'apple'],\n",
       " ['i', 'eat', 'an', 'orange'],\n",
       " ['i', 'eat', 'rice'],\n",
       " ['i', 'drink', 'juice'],\n",
       " ['i', 'drink', 'orange', 'juice'],\n",
       " ['i', 'drink', 'apple', 'juice'],\n",
       " ['i', 'drink', 'milk'],\n",
       " ['i', 'drink', 'water'],\n",
       " ['i', 'drink', 'rice', 'milk']]"
      ]
     },
     "execution_count": 6,
     "metadata": {},
     "output_type": "execute_result"
    }
   ],
   "source": [
    "documents_tokenized"
   ]
  },
  {
   "cell_type": "code",
   "execution_count": 9,
   "metadata": {},
   "outputs": [],
   "source": [
    "tagged_documents_iterator = LabeledLineSentence(documents_tokenized, range(len(documents_tokenized)) )"
   ]
  },
  {
   "cell_type": "code",
   "execution_count": 11,
   "metadata": {},
   "outputs": [],
   "source": [
    "model = createModel(tagged_documents_iterator)"
   ]
  },
  {
   "cell_type": "code",
   "execution_count": 12,
   "metadata": {},
   "outputs": [],
   "source": [
    "keyedVector = model.wv"
   ]
  },
  {
   "cell_type": "code",
   "execution_count": 13,
   "metadata": {},
   "outputs": [
    {
     "data": {
      "text/plain": [
       "{'an': <gensim.models.keyedvectors.Vocab at 0x7ff8b1105278>,\n",
       " 'apple': <gensim.models.keyedvectors.Vocab at 0x7ff8b11052e8>,\n",
       " 'drink': <gensim.models.keyedvectors.Vocab at 0x7ff8b1105320>,\n",
       " 'eat': <gensim.models.keyedvectors.Vocab at 0x7ff8b11052b0>,\n",
       " 'i': <gensim.models.keyedvectors.Vocab at 0x7ff8b1105240>,\n",
       " 'juice': <gensim.models.keyedvectors.Vocab at 0x7ff8b11053c8>,\n",
       " 'milk': <gensim.models.keyedvectors.Vocab at 0x7ff8b1105400>,\n",
       " 'orange': <gensim.models.keyedvectors.Vocab at 0x7ff8b1105358>,\n",
       " 'rice': <gensim.models.keyedvectors.Vocab at 0x7ff8b1105390>,\n",
       " 'water': <gensim.models.keyedvectors.Vocab at 0x7ff8b1105438>}"
      ]
     },
     "execution_count": 13,
     "metadata": {},
     "output_type": "execute_result"
    }
   ],
   "source": [
    "keyedVector.vocab"
   ]
  },
  {
   "cell_type": "code",
   "execution_count": 16,
   "metadata": {},
   "outputs": [
    {
     "name": "stdout",
     "output_type": "stream",
     "text": [
      "========== i ========= \n",
      "[('juice', 0.22862210869789124), ('water', -0.019702313467860222), ('milk', -0.03684799373149872), ('eat', -0.35792040824890137), ('apple', -0.35831838846206665), ('rice', -0.4083351194858551), ('orange', -0.4374846816062927), ('an', -0.5614527463912964), ('drink', -0.9800489544868469)]\n",
      "========== eat ========= \n",
      "[('milk', 0.7289857864379883), ('juice', 0.43223679065704346), ('drink', 0.31230786442756653), ('an', 0.10171344876289368), ('orange', 0.055613890290260315), ('water', -0.05191237851977348), ('apple', -0.2622596025466919), ('i', -0.35792040824890137), ('rice', -0.6519403457641602)]\n",
      "========== an ========= \n",
      "[('rice', 0.49069511890411377), ('drink', 0.42149654030799866), ('juice', 0.18334756791591644), ('eat', 0.10171344876289368), ('water', -0.08065951615571976), ('orange', -0.3188819885253906), ('apple', -0.4349587857723236), ('milk', -0.48578357696533203), ('i', -0.5614527463912964)]\n",
      "========== apple ========= \n",
      "[('orange', 0.7424255609512329), ('drink', 0.49762195348739624), ('rice', 0.3083212375640869), ('water', 0.16873648762702942), ('milk', 0.1501055359840393), ('eat', -0.2622596025466919), ('i', -0.3583184480667114), ('an', -0.4349587857723236), ('juice', -0.637591540813446)]\n",
      "========== orange ========= \n",
      "[('apple', 0.7424255609512329), ('drink', 0.5416068434715271), ('rice', 0.2323148399591446), ('milk', 0.08832301199436188), ('eat', 0.055613890290260315), ('an', -0.3188819885253906), ('water', -0.370988130569458), ('i', -0.4374846816062927), ('juice', -0.8423023819923401)]\n",
      "========== rice ========= \n",
      "[('an', 0.49069514870643616), ('drink', 0.415504515171051), ('apple', 0.3083212077617645), ('orange', 0.2323148250579834), ('water', -0.05436825379729271), ('i', -0.4083351492881775), ('juice', -0.5954169034957886), ('eat', -0.6519403457641602), ('milk', -0.8198863863945007)]\n",
      "========== drink ========= \n",
      "[('orange', 0.5416068434715271), ('apple', 0.49762195348739624), ('an', 0.42149654030799866), ('rice', 0.41550448536872864), ('eat', 0.31230786442756653), ('water', 0.1035461276769638), ('milk', 0.0932396948337555), ('juice', -0.3107151985168457), ('i', -0.9800489544868469)]\n",
      "========== juice ========= \n",
      "[('water', 0.4852999746799469), ('eat', 0.43223679065704346), ('milk', 0.4309384226799011), ('i', 0.22862213850021362), ('an', 0.18334756791591644), ('drink', -0.3107151985168457), ('rice', -0.5954168438911438), ('apple', -0.637591540813446), ('orange', -0.8423023819923401)]\n",
      "========== milk ========= \n",
      "[('eat', 0.7289857864379883), ('juice', 0.4309384226799011), ('water', 0.34123244881629944), ('apple', 0.1501055359840393), ('drink', 0.0932396948337555), ('orange', 0.08832301199436188), ('i', -0.03684799373149872), ('an', -0.48578357696533203), ('rice', -0.819886326789856)]\n",
      "========== water ========= \n",
      "[('juice', 0.4852999746799469), ('milk', 0.34123244881629944), ('apple', 0.16873648762702942), ('drink', 0.1035461276769638), ('i', -0.019702313467860222), ('eat', -0.05191237851977348), ('rice', -0.05436822026968002), ('an', -0.08065951615571976), ('orange', -0.370988130569458)]\n"
     ]
    }
   ],
   "source": [
    "for word in keyedVector.vocab:\n",
    "    print('========== {} ========= '.format(word))\n",
    "    print(keyedVector.most_similar(positive=[word]), sep='\\n')"
   ]
  },
  {
   "cell_type": "code",
   "execution_count": 25,
   "metadata": {},
   "outputs": [],
   "source": [
    "from nltk.corpus import stopwords\n",
    "\n",
    "\n",
    "documents_tokenized = [[x for x in word_tokenize(document.lower()) if x not in stopwords.words('english')]\n",
    "                       for document in documents  ] \n"
   ]
  },
  {
   "cell_type": "code",
   "execution_count": 26,
   "metadata": {},
   "outputs": [
    {
     "data": {
      "text/plain": [
       "[['eat', 'apple'],\n",
       " ['eat', 'orange'],\n",
       " ['eat', 'rice'],\n",
       " ['drink', 'juice'],\n",
       " ['drink', 'orange', 'juice'],\n",
       " ['drink', 'apple', 'juice'],\n",
       " ['drink', 'milk'],\n",
       " ['drink', 'water'],\n",
       " ['drink', 'rice', 'milk']]"
      ]
     },
     "execution_count": 26,
     "metadata": {},
     "output_type": "execute_result"
    }
   ],
   "source": [
    "documents_tokenized"
   ]
  },
  {
   "cell_type": "code",
   "execution_count": 27,
   "metadata": {},
   "outputs": [],
   "source": [
    "tagged_documents_iterator = LabeledLineSentence(documents_tokenized, range(len(documents_tokenized)) )"
   ]
  },
  {
   "cell_type": "code",
   "execution_count": 34,
   "metadata": {},
   "outputs": [],
   "source": [
    "model = createModel(tagged_documents_iterator)\n",
    "keyedVector = model.wv"
   ]
  },
  {
   "cell_type": "code",
   "execution_count": 35,
   "metadata": {},
   "outputs": [
    {
     "name": "stdout",
     "output_type": "stream",
     "text": [
      "========== eat ========= \n",
      "[('juice', 0.5720855593681335), ('milk', 0.2762449383735657), ('drink', -0.013058863580226898), ('water', -0.03299867361783981), ('rice', -0.204393208026886), ('orange', -0.41102057695388794), ('apple', -0.5341901779174805)]\n",
      "========== apple ========= \n",
      "[('rice', 0.7592123746871948), ('orange', 0.4552444815635681), ('water', 0.4116889536380768), ('drink', 0.11775501072406769), ('milk', 0.015080234035849571), ('juice', -0.06365883350372314), ('eat', -0.5341902375221252)]\n",
      "========== orange ========= \n",
      "[('water', 0.5209260582923889), ('apple', 0.4552444815635681), ('milk', 0.2392314225435257), ('rice', 0.21330499649047852), ('drink', -0.006312195211648941), ('juice', -0.2098483145236969), ('eat', -0.41102057695388794)]\n",
      "========== rice ========= \n",
      "[('apple', 0.7592123746871948), ('water', 0.44820624589920044), ('orange', 0.21330496668815613), ('juice', 0.0617765337228775), ('drink', 0.04753674566745758), ('milk', -0.1992708295583725), ('eat', -0.2043931782245636)]\n",
      "========== drink ========= \n",
      "[('apple', 0.11775501072406769), ('rice', 0.04753677546977997), ('orange', -0.006312195211648941), ('eat', -0.013058893382549286), ('milk', -0.7051361203193665), ('juice', -0.7083715200424194), ('water', -0.7131730914115906)]\n",
      "========== juice ========= \n",
      "[('milk', 0.8074555993080139), ('water', 0.634750485420227), ('eat', 0.5720855593681335), ('rice', 0.061776503920555115), ('apple', -0.06365883350372314), ('orange', -0.2098483145236969), ('drink', -0.7083715200424194)]\n",
      "========== milk ========= \n",
      "[('juice', 0.8074557185173035), ('water', 0.7055516839027405), ('eat', 0.27624499797821045), ('orange', 0.23923145234584808), ('apple', 0.015080230310559273), ('rice', -0.19927085936069489), ('drink', -0.7051361203193665)]\n",
      "========== water ========= \n",
      "[('milk', 0.7055515050888062), ('juice', 0.6347504258155823), ('orange', 0.5209259986877441), ('rice', 0.44820618629455566), ('apple', 0.411688894033432), ('eat', -0.032998666167259216), ('drink', -0.7131730318069458)]\n"
     ]
    }
   ],
   "source": [
    "for word in keyedVector.vocab:\n",
    "    print('========== {} ========= '.format(word))\n",
    "    print(keyedVector.most_similar(positive=[word]), sep='\\n')"
   ]
  },
  {
   "cell_type": "code",
   "execution_count": null,
   "metadata": {},
   "outputs": [],
   "source": []
  }
 ],
 "metadata": {
  "kernelspec": {
   "display_name": "Python 3",
   "language": "python",
   "name": "python3"
  },
  "language_info": {
   "codemirror_mode": {
    "name": "ipython",
    "version": 3
   },
   "file_extension": ".py",
   "mimetype": "text/x-python",
   "name": "python",
   "nbconvert_exporter": "python",
   "pygments_lexer": "ipython3",
   "version": "3.6.2"
  }
 },
 "nbformat": 4,
 "nbformat_minor": 2
}
