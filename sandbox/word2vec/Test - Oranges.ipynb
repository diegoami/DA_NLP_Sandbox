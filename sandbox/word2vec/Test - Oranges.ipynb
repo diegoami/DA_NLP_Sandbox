{
 "cells": [
  {
   "cell_type": "code",
   "execution_count": 75,
   "metadata": {},
   "outputs": [],
   "source": [
    "from gensim.models.doc2vec import TaggedDocument\n",
    "from gensim.models import Doc2Vec"
   ]
  },
  {
   "cell_type": "code",
   "execution_count": 76,
   "metadata": {},
   "outputs": [],
   "source": [
    "documents = [    \n",
    "    'eat apple',     # 0\n",
    "    'eat orange',    # 1\n",
    "    'eat rice',      # 2\n",
    "    'drink juice',   # 3\n",
    "    'orange juice',  # 4\n",
    "    'apple juice',   # 5\n",
    "    'drink milk',    # 6\n",
    "    'drink water',   # 7\n",
    "    'rice milk'      # 8\n",
    "]"
   ]
  },
  {
   "cell_type": "markdown",
   "metadata": {},
   "source": [
    "Word2vec detects that words are related, similar or interchangeable looking at the words that are closer to them.\n",
    "Here we expect to find out similarities between:\n",
    "\n",
    "* **orange, apple** because you can make **juice** out of them ( #4, #5 )\n",
    "* **apple, orange, rice** because you can **eat** them ( #0, #1, #2)\n",
    "* **juice, milk, water** because you can **drink** them ( #3, #6, #7 )\n",
    " \n",
    "Side effect:\n",
    "* **orange, apple** may be similar to **drink** because of (#3 vs #4, #5 ) \n",
    "* **juice** may be similar to **eat** because of (#4, #5 vs #0, #1 ) \n",
    "* **milk** may be similar to **eat** because of (#2 vs #8 )\n",
    "* **rice** may be similar to **drink** because of (#6 vs #8 )\n"
   ]
  },
  {
   "cell_type": "code",
   "execution_count": 77,
   "metadata": {},
   "outputs": [],
   "source": [
    "from nltk.tokenize import sent_tokenize, word_tokenize\n",
    "documents_tokenized = [word_tokenize(document) for document in documents] \n"
   ]
  },
  {
   "cell_type": "code",
   "execution_count": 78,
   "metadata": {},
   "outputs": [
    {
     "data": {
      "text/plain": [
       "[['eat', 'apple'],\n",
       " ['eat', 'orange'],\n",
       " ['eat', 'rice'],\n",
       " ['drink', 'juice'],\n",
       " ['orange', 'juice'],\n",
       " ['apple', 'juice'],\n",
       " ['drink', 'milk'],\n",
       " ['drink', 'water'],\n",
       " ['rice', 'milk']]"
      ]
     },
     "execution_count": 78,
     "metadata": {},
     "output_type": "execute_result"
    }
   ],
   "source": [
    "documents_tokenized"
   ]
  },
  {
   "cell_type": "code",
   "execution_count": 79,
   "metadata": {},
   "outputs": [],
   "source": [
    "class LabeledLineSentence(object):\n",
    "    def __init__(self, texts, idxlist):\n",
    "        self.texts = texts\n",
    "        self.doc_list = idxlist\n",
    "\n",
    "    def __iter__(self):\n",
    "        for idx, text in zip(self.doc_list, self.texts):\n",
    "            wtok = text\n",
    "            tags = [idx]\n",
    "\n",
    "            yield TaggedDocument(words=wtok, tags=tags)"
   ]
  },
  {
   "cell_type": "code",
   "execution_count": 80,
   "metadata": {},
   "outputs": [],
   "source": [
    "tagged_documents_iterator = LabeledLineSentence(documents_tokenized, range(len(documents_tokenized)) )"
   ]
  },
  {
   "cell_type": "code",
   "execution_count": 81,
   "metadata": {},
   "outputs": [
    {
     "data": {
      "text/plain": [
       "[TaggedDocument(words=['eat', 'apple'], tags=[0]),\n",
       " TaggedDocument(words=['eat', 'orange'], tags=[1]),\n",
       " TaggedDocument(words=['eat', 'rice'], tags=[2]),\n",
       " TaggedDocument(words=['drink', 'juice'], tags=[3]),\n",
       " TaggedDocument(words=['orange', 'juice'], tags=[4]),\n",
       " TaggedDocument(words=['apple', 'juice'], tags=[5]),\n",
       " TaggedDocument(words=['drink', 'milk'], tags=[6]),\n",
       " TaggedDocument(words=['drink', 'water'], tags=[7]),\n",
       " TaggedDocument(words=['rice', 'milk'], tags=[8])]"
      ]
     },
     "execution_count": 81,
     "metadata": {},
     "output_type": "execute_result"
    }
   ],
   "source": [
    "list(tagged_documents_iterator)\n"
   ]
  },
  {
   "cell_type": "code",
   "execution_count": 98,
   "metadata": {},
   "outputs": [],
   "source": [
    "model = Doc2Vec(size=5,  min_count=1, sample = 0, iter=200, alpha=0.2)"
   ]
  },
  {
   "cell_type": "code",
   "execution_count": 99,
   "metadata": {},
   "outputs": [],
   "source": [
    "model.build_vocab(tagged_documents_iterator)"
   ]
  },
  {
   "cell_type": "code",
   "execution_count": 100,
   "metadata": {},
   "outputs": [
    {
     "data": {
      "text/plain": [
       "<gensim.models.keyedvectors.KeyedVectors at 0x7f6fa93bea90>"
      ]
     },
     "execution_count": 100,
     "metadata": {},
     "output_type": "execute_result"
    }
   ],
   "source": [
    "model.wv"
   ]
  },
  {
   "cell_type": "code",
   "execution_count": 101,
   "metadata": {},
   "outputs": [
    {
     "data": {
      "text/plain": [
       "5400"
      ]
     },
     "execution_count": 101,
     "metadata": {},
     "output_type": "execute_result"
    }
   ],
   "source": [
    "model.train(tagged_documents_iterator, total_examples=model.corpus_count, epochs=model.iter)"
   ]
  },
  {
   "cell_type": "code",
   "execution_count": 102,
   "metadata": {},
   "outputs": [],
   "source": [
    "keyedVector = model.wv"
   ]
  },
  {
   "cell_type": "code",
   "execution_count": 107,
   "metadata": {},
   "outputs": [
    {
     "data": {
      "text/plain": [
       "'juice'"
      ]
     },
     "execution_count": 107,
     "metadata": {},
     "output_type": "execute_result"
    }
   ],
   "source": [
    "keyedVector.doesnt_match(['apple', 'orange', 'juice'])"
   ]
  },
  {
   "cell_type": "code",
   "execution_count": 110,
   "metadata": {},
   "outputs": [
    {
     "data": {
      "text/plain": [
       "(array([-2.20925665, -0.54110104, -1.6180892 ,  3.34981203, -3.73651361], dtype=float32),\n",
       " array([ 1.91637743, -2.4059031 , -0.88463014,  3.49807501, -2.15746617], dtype=float32),\n",
       " array([ 1.58826435, -0.5545249 , -0.43745354,  1.90960145,  5.19667912], dtype=float32))"
      ]
     },
     "execution_count": 110,
     "metadata": {},
     "output_type": "execute_result"
    }
   ],
   "source": [
    "keyedVector.word_vec('apple'), keyedVector.word_vec('orange'), keyedVector.word_vec('juice') "
   ]
  },
  {
   "cell_type": "code",
   "execution_count": 103,
   "metadata": {},
   "outputs": [
    {
     "data": {
      "text/plain": [
       "[('rice', 0.8115032911300659),\n",
       " ('drink', 0.6313644647598267),\n",
       " ('orange', 0.6110762357711792),\n",
       " ('water', 0.20079126954078674),\n",
       " ('eat', -0.07000157237052917),\n",
       " ('milk', -0.2079600691795349),\n",
       " ('juice', -0.465804785490036)]"
      ]
     },
     "execution_count": 103,
     "metadata": {},
     "output_type": "execute_result"
    }
   ],
   "source": [
    "keyedVector.most_similar(positive=['apple'])"
   ]
  },
  {
   "cell_type": "code",
   "execution_count": 104,
   "metadata": {},
   "outputs": [
    {
     "data": {
      "text/plain": [
       "[('milk', 0.8516817688941956),\n",
       " ('water', 0.60219407081604),\n",
       " ('eat', 0.5291734337806702),\n",
       " ('orange', 0.007711499929428101),\n",
       " ('rice', -0.19368654489517212),\n",
       " ('drink', -0.30208927392959595),\n",
       " ('apple', -0.46580472588539124)]"
      ]
     },
     "execution_count": 104,
     "metadata": {},
     "output_type": "execute_result"
    }
   ],
   "source": [
    "keyedVector.most_similar(positive=['juice'])"
   ]
  },
  {
   "cell_type": "code",
   "execution_count": 105,
   "metadata": {},
   "outputs": [
    {
     "data": {
      "text/plain": [
       "[('rice', 0.7943306565284729),\n",
       " ('orange', 0.7691922187805176),\n",
       " ('apple', 0.6313644647598267),\n",
       " ('water', 0.02526184916496277),\n",
       " ('eat', -0.16449116170406342),\n",
       " ('juice', -0.30208921432495117),\n",
       " ('milk', -0.3158668875694275)]"
      ]
     },
     "execution_count": 105,
     "metadata": {},
     "output_type": "execute_result"
    }
   ],
   "source": [
    "keyedVector.most_similar(positive=['drink'])"
   ]
  },
  {
   "cell_type": "code",
   "execution_count": 96,
   "metadata": {},
   "outputs": [
    {
     "data": {
      "text/plain": [
       "[('apple', 0.9975391626358032),\n",
       " ('rice', 0.759171187877655),\n",
       " ('milk', 0.7426793575286865),\n",
       " ('juice', 0.6638700366020203),\n",
       " ('water', 0.5512731671333313),\n",
       " ('drink', 0.24622079730033875),\n",
       " ('eat', -0.6274670362472534)]"
      ]
     },
     "execution_count": 96,
     "metadata": {},
     "output_type": "execute_result"
    }
   ],
   "source": [
    "keyedVector.most_similar(positive=['orange'])"
   ]
  },
  {
   "cell_type": "code",
   "execution_count": 97,
   "metadata": {},
   "outputs": [
    {
     "data": {
      "text/plain": [
       "[('water', 0.30373555421829224),\n",
       " ('juice', 0.16575008630752563),\n",
       " ('milk', 0.055409371852874756),\n",
       " ('rice', 0.030456997454166412),\n",
       " ('apple', -0.5713309645652771),\n",
       " ('orange', -0.6274670362472534),\n",
       " ('drink', -0.9091671109199524)]"
      ]
     },
     "execution_count": 97,
     "metadata": {},
     "output_type": "execute_result"
    }
   ],
   "source": [
    "keyedVector.most_similar(positive=['eat'])"
   ]
  },
  {
   "cell_type": "code",
   "execution_count": 106,
   "metadata": {},
   "outputs": [
    {
     "data": {
      "text/plain": [
       "[('milk', 0.8553852438926697),\n",
       " ('eat', 0.8403401374816895),\n",
       " ('juice', 0.6021940112113953),\n",
       " ('orange', 0.2924272418022156),\n",
       " ('apple', 0.20079129934310913),\n",
       " ('rice', 0.11420619487762451),\n",
       " ('drink', 0.02526184916496277)]"
      ]
     },
     "execution_count": 106,
     "metadata": {},
     "output_type": "execute_result"
    }
   ],
   "source": [
    "keyedVector.most_similar(positive=['water'])"
   ]
  },
  {
   "cell_type": "code",
   "execution_count": null,
   "metadata": {},
   "outputs": [],
   "source": []
  }
 ],
 "metadata": {
  "kernelspec": {
   "display_name": "Python 3",
   "language": "python",
   "name": "python3"
  },
  "language_info": {
   "codemirror_mode": {
    "name": "ipython",
    "version": 3
   },
   "file_extension": ".py",
   "mimetype": "text/x-python",
   "name": "python",
   "nbconvert_exporter": "python",
   "pygments_lexer": "ipython3",
   "version": "3.6.2"
  }
 },
 "nbformat": 4,
 "nbformat_minor": 2
}
