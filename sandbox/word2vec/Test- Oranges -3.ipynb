{
 "cells": [
  {
   "cell_type": "code",
   "execution_count": 57,
   "metadata": {},
   "outputs": [],
   "source": [
    "from gensim.models.doc2vec import TaggedDocument\n",
    "from gensim.models import Doc2Vec\n",
    "from nltk.tokenize import  word_tokenize\n",
    "from nltk.corpus import stopwords\n",
    "\n",
    "class LabeledLineSentence(object):\n",
    "    def __init__(self, texts, idxlist):\n",
    "        self.texts = texts\n",
    "        self.doc_list = idxlist\n",
    "\n",
    "    def __iter__(self):\n",
    "        for idx, text in zip(self.doc_list, self.texts):\n",
    "            wtok = text\n",
    "            tags = [idx]\n",
    "\n",
    "            yield TaggedDocument(words=wtok, tags=tags)\n",
    "            \n",
    "def createModel(tagged_documents_iterator, min_count=1,iter=200):\n",
    "    model = Doc2Vec(size=8,  min_count=min_count, sample = 0, iter=iter, alpha=0.2)\n",
    "    model.build_vocab(tagged_documents_iterator)\n",
    "    model.train(tagged_documents_iterator, total_examples=model.corpus_count, epochs=model.iter)\n",
    "    return model "
   ]
  },
  {
   "cell_type": "code",
   "execution_count": 41,
   "metadata": {},
   "outputs": [],
   "source": [
    "documents = [    \n",
    "    'I eat an apple',     # 0\n",
    "    'I eat an orange',    # 1\n",
    "    'He eats rice',      # 2\n",
    "    'I drink juice',   # 3\n",
    "    'I drink orange juice',  # 4\n",
    "    'I drink apple juice',   # 5\n",
    "    'He drinks milk',    # 6\n",
    "    'She drinks water',   # 7\n",
    "    'I drink rice milk',      # 8\n",
    "    'Apple are fruits',\n",
    "    'Oranges are also fruits',\n",
    "    'Rice is food',\n",
    "    'Fruits are food',\n",
    "    'A juice is a drink',\n",
    "    'Rice milk is a drink',\n",
    "    'Water is a drink',\n",
    "    'You can make juice out of fruits'\n",
    "]"
   ]
  },
  {
   "cell_type": "code",
   "execution_count": 42,
   "metadata": {},
   "outputs": [],
   "source": [
    "documents_tokenized = [[x for x in word_tokenize(document.lower()) if x not in stopwords.words('english')]\n",
    "                       for document in documents  ] "
   ]
  },
  {
   "cell_type": "code",
   "execution_count": 43,
   "metadata": {},
   "outputs": [
    {
     "data": {
      "text/plain": [
       "[['eat', 'apple'],\n",
       " ['eat', 'orange'],\n",
       " ['eats', 'rice'],\n",
       " ['drink', 'juice'],\n",
       " ['drink', 'orange', 'juice'],\n",
       " ['drink', 'apple', 'juice'],\n",
       " ['drinks', 'milk'],\n",
       " ['drinks', 'water'],\n",
       " ['drink', 'rice', 'milk'],\n",
       " ['apple', 'fruits'],\n",
       " ['oranges', 'also', 'fruits'],\n",
       " ['rice', 'food'],\n",
       " ['fruits', 'food'],\n",
       " ['juice', 'drink'],\n",
       " ['rice', 'milk', 'drink'],\n",
       " ['water', 'drink'],\n",
       " ['make', 'juice', 'fruits']]"
      ]
     },
     "execution_count": 43,
     "metadata": {},
     "output_type": "execute_result"
    }
   ],
   "source": [
    "documents_tokenized"
   ]
  },
  {
   "cell_type": "code",
   "execution_count": 44,
   "metadata": {},
   "outputs": [],
   "source": [
    "tagged_documents_iterator = LabeledLineSentence(documents_tokenized, range(len(documents_tokenized)) )\n",
    "model = createModel(tagged_documents_iterator)\n",
    "keyedVector = model.wv"
   ]
  },
  {
   "cell_type": "code",
   "execution_count": 45,
   "metadata": {},
   "outputs": [
    {
     "name": "stdout",
     "output_type": "stream",
     "text": [
      "========== eat ========= \n",
      "[('eats', 0.5637511014938354), ('food', 0.5146613717079163), ('oranges', 0.48135727643966675), ('drinks', 0.46551451086997986), ('juice', 0.4203437566757202), ('make', 0.4202868938446045), ('water', 0.2883213460445404), ('milk', 0.25521615147590637), ('fruits', 0.23042337596416473), ('drink', 0.19983536005020142)]\n",
      "========== apple ========= \n",
      "[('make', 0.7851319909095764), ('food', 0.654241681098938), ('oranges', 0.5355478525161743), ('orange', 0.5175880789756775), ('also', 0.4624544382095337), ('eats', 0.3209429383277893), ('milk', 0.305752158164978), ('water', 0.2883443832397461), ('drink', 0.04518195241689682), ('drinks', 0.03469877690076828)]\n",
      "========== orange ========= \n",
      "[('apple', 0.5175880193710327), ('drinks', 0.48081889748573303), ('rice', 0.47761738300323486), ('make', 0.4104869067668915), ('oranges', 0.3590584993362427), ('fruits', 0.33224278688430786), ('water', 0.14942654967308044), ('also', 0.10489951819181442), ('food', 0.08603176474571228), ('drink', 0.058224476873874664)]\n",
      "========== eats ========= \n",
      "[('food', 0.8568220734596252), ('make', 0.7178252935409546), ('drinks', 0.5779465436935425), ('eat', 0.5637511610984802), ('drink', 0.5142972469329834), ('also', 0.39594390988349915), ('milk', 0.34533020853996277), ('apple', 0.3209429383277893), ('oranges', 0.19480246305465698), ('water', 0.12263576686382294)]\n",
      "========== rice ========= \n",
      "[('juice', 0.5760450959205627), ('water', 0.5572388768196106), ('orange', 0.47761738300323486), ('fruits', 0.4448011517524719), ('drinks', 0.10976049304008484), ('milk', 0.1041991263628006), ('eat', 0.011192671954631805), ('oranges', -0.009457245469093323), ('apple', -0.1689302921295166), ('also', -0.20506441593170166)]\n",
      "========== drink ========= \n",
      "[('drinks', 0.6558312177658081), ('eats', 0.5142972469329834), ('make', 0.4314200282096863), ('fruits', 0.289112389087677), ('food', 0.22822824120521545), ('eat', 0.1998354196548462), ('oranges', 0.1446784883737564), ('also', 0.1158071756362915), ('orange', 0.05822446942329407), ('apple', 0.04518195986747742)]\n",
      "========== juice ========= \n",
      "[('water', 0.765913188457489), ('milk', 0.6410064697265625), ('rice', 0.5760450959205627), ('eat', 0.4203437566757202), ('oranges', 0.2525486648082733), ('food', 0.14921939373016357), ('also', 0.07449556887149811), ('orange', -0.07132978737354279), ('fruits', -0.07595860958099365), ('apple', -0.0833347886800766)]\n",
      "========== drinks ========= \n",
      "[('drink', 0.6558312177658081), ('fruits', 0.6034352779388428), ('eats', 0.5779465436935425), ('orange', 0.48081889748573303), ('eat', 0.465514600276947), ('make', 0.4515846073627472), ('food', 0.2976069748401642), ('oranges', 0.15584304928779602), ('rice', 0.10976049304008484), ('apple', 0.03469876945018768)]\n",
      "========== milk ========= \n",
      "[('water', 0.787979006767273), ('juice', 0.6410064697265625), ('food', 0.5546672940254211), ('also', 0.3469703793525696), ('eats', 0.34533020853996277), ('apple', 0.305752158164978), ('make', 0.283052921295166), ('eat', 0.25521615147590637), ('oranges', 0.1158151626586914), ('rice', 0.1041991263628006)]\n",
      "========== water ========= \n",
      "[('milk', 0.7879789471626282), ('juice', 0.7659131288528442), ('rice', 0.5572388172149658), ('food', 0.3564565181732178), ('oranges', 0.34361913800239563), ('apple', 0.2883443832397461), ('eat', 0.288321316242218), ('make', 0.19210582971572876), ('orange', 0.14942657947540283), ('eats', 0.12263573706150055)]\n",
      "========== fruits ========= \n",
      "[('drinks', 0.6034353375434875), ('rice', 0.4448012113571167), ('orange', 0.3322427570819855), ('drink', 0.28911247849464417), ('eat', 0.23042342066764832), ('oranges', -0.04818163067102432), ('juice', -0.07595865428447723), ('eats', -0.15382057428359985), ('make', -0.30210942029953003), ('also', -0.30927222967147827)]\n",
      "========== oranges ========= \n",
      "[('make', 0.627029538154602), ('apple', 0.5355478525161743), ('eat', 0.48135727643966675), ('food', 0.46525776386260986), ('orange', 0.3590584993362427), ('water', 0.343619167804718), ('juice', 0.2525486648082733), ('eats', 0.19480246305465698), ('drinks', 0.15584304928779602), ('drink', 0.1446784883737564)]\n",
      "========== also ========= \n",
      "[('food', 0.6008155345916748), ('apple', 0.4624544382095337), ('make', 0.4453464448451996), ('eats', 0.39594390988349915), ('milk', 0.3469703793525696), ('drink', 0.1158071756362915), ('orange', 0.10489953309297562), ('juice', 0.07449556887149811), ('eat', 0.043858423829078674), ('oranges', 0.0037413835525512695)]\n",
      "========== food ========= \n",
      "[('eats', 0.8568220734596252), ('make', 0.841767430305481), ('apple', 0.654241681098938), ('also', 0.6008155345916748), ('milk', 0.5546672940254211), ('eat', 0.514661431312561), ('oranges', 0.46525776386260986), ('water', 0.3564565181732178), ('drinks', 0.2976069748401642), ('drink', 0.22822824120521545)]\n",
      "========== make ========= \n",
      "[('food', 0.841767430305481), ('apple', 0.7851318717002869), ('eats', 0.7178252935409546), ('oranges', 0.6270294785499573), ('drinks', 0.4515845775604248), ('also', 0.4453464150428772), ('drink', 0.4314199984073639), ('eat', 0.4202868342399597), ('orange', 0.4104868471622467), ('milk', 0.283052921295166)]\n"
     ]
    }
   ],
   "source": [
    "for word in keyedVector.vocab:\n",
    "    print('========== {} ========= '.format(word))\n",
    "    print(keyedVector.most_similar(positive=[word]), sep='\\n')"
   ]
  },
  {
   "cell_type": "code",
   "execution_count": 33,
   "metadata": {},
   "outputs": [],
   "source": [
    "from nltk.stem.porter import *\n",
    "stemmer = PorterStemmer()"
   ]
  },
  {
   "cell_type": "code",
   "execution_count": 49,
   "metadata": {},
   "outputs": [],
   "source": [
    "documents_tokenized = [[stemmer.stem(x.lower()) for x in word_tokenize(document) if x.lower() not in stopwords.words('english')]\n",
    "                       for document in documents  ] "
   ]
  },
  {
   "cell_type": "code",
   "execution_count": 50,
   "metadata": {},
   "outputs": [
    {
     "data": {
      "text/plain": [
       "[['eat', 'appl'],\n",
       " ['eat', 'orang'],\n",
       " ['eat', 'rice'],\n",
       " ['drink', 'juic'],\n",
       " ['drink', 'orang', 'juic'],\n",
       " ['drink', 'appl', 'juic'],\n",
       " ['drink', 'milk'],\n",
       " ['drink', 'water'],\n",
       " ['drink', 'rice', 'milk'],\n",
       " ['appl', 'fruit'],\n",
       " ['orang', 'also', 'fruit'],\n",
       " ['rice', 'food'],\n",
       " ['fruit', 'food'],\n",
       " ['juic', 'drink'],\n",
       " ['rice', 'milk', 'drink'],\n",
       " ['water', 'drink'],\n",
       " ['make', 'juic', 'fruit']]"
      ]
     },
     "execution_count": 50,
     "metadata": {},
     "output_type": "execute_result"
    }
   ],
   "source": [
    "documents_tokenized "
   ]
  },
  {
   "cell_type": "code",
   "execution_count": 51,
   "metadata": {},
   "outputs": [],
   "source": [
    "tagged_documents_iterator = LabeledLineSentence(documents_tokenized, range(len(documents_tokenized)) )\n",
    "model = createModel(tagged_documents_iterator)\n",
    "keyedVector = model.wv"
   ]
  },
  {
   "cell_type": "code",
   "execution_count": 52,
   "metadata": {},
   "outputs": [
    {
     "name": "stdout",
     "output_type": "stream",
     "text": [
      "========== eat ========= \n",
      "[('food', 0.7528905272483826), ('make', 0.5923361778259277), ('also', 0.5741664171218872), ('milk', 0.4150867462158203), ('drink', 0.3817022442817688), ('water', 0.25823140144348145), ('fruit', 0.2361714094877243), ('appl', 0.06418837606906891), ('juic', -0.010045230388641357), ('orang', -0.09701062738895416)]\n",
      "========== appl ========= \n",
      "[('make', 0.6203815937042236), ('orang', 0.5152387619018555), ('also', 0.4901844561100006), ('food', 0.36059388518333435), ('rice', 0.3116469383239746), ('water', 0.2118978202342987), ('milk', 0.10418567806482315), ('eat', 0.06418837606906891), ('juic', 0.04690834879875183), ('drink', -0.004105009138584137)]\n",
      "========== orang ========= \n",
      "[('rice', 0.7357353568077087), ('appl', 0.5152387619018555), ('make', 0.3480257987976074), ('water', 0.32528382539749146), ('fruit', 0.16470105946063995), ('drink', 0.011485062539577484), ('juic', -0.020891964435577393), ('food', -0.03689652681350708), ('also', -0.05759987235069275), ('milk', -0.07765514403581619)]\n",
      "========== rice ========= \n",
      "[('orang', 0.7357353568077087), ('water', 0.5544337034225464), ('appl', 0.3116469383239746), ('fruit', 0.3011312782764435), ('juic', 0.30112800002098083), ('make', 0.15299004316329956), ('milk', -0.07044726610183716), ('drink', -0.09981794655323029), ('also', -0.13707931339740753), ('food', -0.14871515333652496)]\n",
      "========== drink ========= \n",
      "[('make', 0.5538694858551025), ('eat', 0.3817022442817688), ('food', 0.34087157249450684), ('fruit', 0.16437691450119019), ('also', 0.1458812952041626), ('orang', 0.011485062539577484), ('appl', -0.004105009138584137), ('rice', -0.09981794655323029), ('water', -0.5261085033416748), ('milk', -0.6016561985015869)]\n",
      "========== juic ========= \n",
      "[('milk', 0.7269270420074463), ('water', 0.685440719127655), ('rice', 0.30112800002098083), ('also', 0.2876227796077728), ('food', 0.11825689673423767), ('appl', 0.04690834879875183), ('fruit', 0.04037581384181976), ('eat', -0.010045230388641357), ('orang', -0.020891964435577393), ('make', -0.22498288750648499)]\n",
      "========== milk ========= \n",
      "[('juic', 0.7269270420074463), ('water', 0.7082808017730713), ('food', 0.46688300371170044), ('also', 0.4253002405166626), ('eat', 0.4150867462158203), ('appl', 0.10418567806482315), ('make', 0.06235344335436821), ('rice', -0.07044726610183716), ('orang', -0.07765514403581619), ('fruit', -0.13173449039459229)]\n",
      "========== water ========= \n",
      "[('milk', 0.7082808017730713), ('juic', 0.6854406595230103), ('rice', 0.5544337034225464), ('orang', 0.32528379559516907), ('eat', 0.25823140144348145), ('fruit', 0.24936389923095703), ('appl', 0.2118978202342987), ('food', 0.15160320699214935), ('also', 0.10010741651058197), ('make', 0.08501826226711273)]\n",
      "========== fruit ========= \n",
      "[('rice', 0.3011312782764435), ('water', 0.24936389923095703), ('eat', 0.2361714094877243), ('orang', 0.16470105946063995), ('drink', 0.16437691450119019), ('juic', 0.04037581384181976), ('appl', -0.06649387627840042), ('milk', -0.13173449039459229), ('make', -0.17357578873634338), ('food', -0.2019360065460205)]\n",
      "========== also ========= \n",
      "[('food', 0.8901292085647583), ('make', 0.722689151763916), ('eat', 0.5741664171218872), ('appl', 0.4901844561100006), ('milk', 0.4253002405166626), ('juic', 0.2876227796077728), ('drink', 0.1458812952041626), ('water', 0.10010745376348495), ('orang', -0.05759987235069275), ('rice', -0.13707931339740753)]\n",
      "========== food ========= \n",
      "[('also', 0.8901292085647583), ('make', 0.7999245524406433), ('eat', 0.7528905272483826), ('milk', 0.46688300371170044), ('appl', 0.36059388518333435), ('drink', 0.34087157249450684), ('water', 0.15160323679447174), ('juic', 0.11825689673423767), ('orang', -0.03689652681350708), ('rice', -0.14871515333652496)]\n",
      "========== make ========= \n",
      "[('food', 0.7999245524406433), ('also', 0.722689151763916), ('appl', 0.6203815937042236), ('eat', 0.592336118221283), ('drink', 0.5538694858551025), ('orang', 0.3480258285999298), ('rice', 0.15299004316329956), ('water', 0.08501825481653214), ('milk', 0.06235346570611), ('fruit', -0.17357578873634338)]\n"
     ]
    }
   ],
   "source": [
    "for word in keyedVector.vocab:\n",
    "    print('========== {} ========= '.format(word))\n",
    "    print(keyedVector.most_similar(positive=[word]), sep='\\n')"
   ]
  },
  {
   "cell_type": "code",
   "execution_count": 58,
   "metadata": {},
   "outputs": [
    {
     "name": "stdout",
     "output_type": "stream",
     "text": [
      "========== eat ========= \n",
      "[('fruit', 0.6078680157661438), ('food', 0.5505356788635254), ('milk', 0.2614019513130188), ('juic', 0.22861997783184052), ('drink', 0.1867920309305191), ('water', 0.17487840354442596), ('appl', 0.1271774172782898), ('rice', 0.08494648337364197), ('orang', -0.22146911919116974)]\n",
      "========== appl ========= \n",
      "[('food', 0.45917606353759766), ('milk', 0.2810928523540497), ('orang', 0.2672695815563202), ('water', 0.17115092277526855), ('eat', 0.1271774172782898), ('drink', 0.11658059060573578), ('fruit', 0.04279692843556404), ('rice', -0.011791020631790161), ('juic', -0.17154553532600403)]\n",
      "========== orang ========= \n",
      "[('food', 0.4880123436450958), ('appl', 0.2672696113586426), ('milk', 0.26385942101478577), ('rice', 0.12734302878379822), ('juic', 0.12708032131195068), ('water', 0.12559743225574493), ('drink', -0.1480497121810913), ('eat', -0.22146911919116974), ('fruit', -0.4769309163093567)]\n",
      "========== rice ========= \n",
      "[('fruit', 0.5309787392616272), ('juic', 0.49488186836242676), ('water', 0.46315085887908936), ('orang', 0.12734302878379822), ('milk', 0.08881418406963348), ('eat', 0.08494645357131958), ('appl', -0.011791020631790161), ('drink', -0.1824486255645752), ('food', -0.26741117238998413)]\n",
      "========== drink ========= \n",
      "[('fruit', 0.4040173292160034), ('eat', 0.18679200112819672), ('food', 0.1437624990940094), ('appl', 0.11658057570457458), ('orang', -0.1480497419834137), ('rice', -0.1824485808610916), ('juic', -0.7854210138320923), ('milk', -0.7935227751731873), ('water', -0.7969936728477478)]\n",
      "========== juic ========= \n",
      "[('milk', 0.7679246664047241), ('water', 0.7060101628303528), ('rice', 0.49488186836242676), ('eat', 0.22861993312835693), ('orang', 0.12708035111427307), ('food', 0.0975218117237091), ('fruit', 0.03547481447458267), ('appl', -0.17154550552368164), ('drink', -0.7854211330413818)]\n",
      "========== milk ========= \n",
      "[('water', 0.787868857383728), ('juic', 0.7679246664047241), ('food', 0.42481139302253723), ('appl', 0.28109288215637207), ('orang', 0.26385942101478577), ('eat', 0.2614019513130188), ('rice', 0.08881418406963348), ('fruit', -0.2594341039657593), ('drink', -0.793522834777832)]\n",
      "========== water ========= \n",
      "[('milk', 0.787868857383728), ('juic', 0.706010103225708), ('rice', 0.46315082907676697), ('eat', 0.17487835884094238), ('appl', 0.17115092277526855), ('orang', 0.12559744715690613), ('fruit', -0.032095588743686676), ('food', -0.03261098265647888), ('drink', -0.7969937324523926)]\n",
      "========== fruit ========= \n",
      "[('eat', 0.607867956161499), ('rice', 0.5309787392616272), ('drink', 0.4040173292160034), ('appl', 0.042796920984983444), ('juic', 0.03547481447458267), ('water', -0.03209557384252548), ('food', -0.10185360908508301), ('milk', -0.2594341039657593), ('orang', -0.4769309163093567)]\n",
      "========== food ========= \n",
      "[('eat', 0.5505356788635254), ('orang', 0.4880123436450958), ('appl', 0.45917609333992004), ('milk', 0.42481139302253723), ('drink', 0.1437625288963318), ('juic', 0.0975218117237091), ('water', -0.03261101245880127), ('fruit', -0.10185360908508301), ('rice', -0.26741117238998413)]\n"
     ]
    }
   ],
   "source": [
    "\n",
    "model = createModel(tagged_documents_iterator,min_count=2, iter=1000)\n",
    "keyedVector = model.wv\n",
    "for word in keyedVector.vocab:\n",
    "    print('========== {} ========= '.format(word))\n",
    "    print(keyedVector.most_similar(positive=[word]), sep='\\n')"
   ]
  },
  {
   "cell_type": "code",
   "execution_count": null,
   "metadata": {},
   "outputs": [],
   "source": []
  }
 ],
 "metadata": {
  "kernelspec": {
   "display_name": "Python 3",
   "language": "python",
   "name": "python3"
  },
  "language_info": {
   "codemirror_mode": {
    "name": "ipython",
    "version": 3
   },
   "file_extension": ".py",
   "mimetype": "text/x-python",
   "name": "python",
   "nbconvert_exporter": "python",
   "pygments_lexer": "ipython3",
   "version": "3.6.2"
  }
 },
 "nbformat": 4,
 "nbformat_minor": 2
}
